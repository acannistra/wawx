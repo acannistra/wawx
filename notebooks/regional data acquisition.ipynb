{
 "cells": [
  {
   "cell_type": "code",
   "execution_count": 36,
   "metadata": {
    "collapsed": true
   },
   "outputs": [],
   "source": [
    "from bs4 import BeautifulSoup\n",
    "import requests"
   ]
  },
  {
   "cell_type": "code",
   "execution_count": 37,
   "metadata": {
    "collapsed": true
   },
   "outputs": [],
   "source": [
    "url_template = \"https://www.nwac.us/avalanche-forecast/current/{region}\"\n",
    "ex_region = \"cascade-west-central\""
   ]
  },
  {
   "cell_type": "code",
   "execution_count": null,
   "metadata": {
    "collapsed": true
   },
   "outputs": [],
   "source": [
    "\n",
    "    "
   ]
  },
  {
   "cell_type": "code",
   "execution_count": 38,
   "metadata": {
    "collapsed": true
   },
   "outputs": [],
   "source": [
    "raw = requests.get(url_template.format(region=ex_region))"
   ]
  },
  {
   "cell_type": "code",
   "execution_count": 39,
   "metadata": {
    "collapsed": true
   },
   "outputs": [],
   "source": [
    "soup = BeautifulSoup(raw.text, 'html5lib')"
   ]
  },
  {
   "cell_type": "code",
   "execution_count": null,
   "metadata": {
    "scrolled": false
   },
   "outputs": [],
   "source": [
    "\n"
   ]
  },
  {
   "cell_type": "code",
   "execution_count": 63,
   "metadata": {},
   "outputs": [
    {
     "data": {
      "text/plain": [
       "\"A frontal band of rain\\xa0will progress across the Cascade West slopes on Wednesday night,\\xa0with moderate to occasionally strong southerly winds during the evening hours. Precipitation has started as rain in most of our forecasting terrain. Light to moderate rain and snow showers on a moderate SW flow and\\xa0a significant cooling trend follow the frontal passage during the late evening hours. Thursday will feature continued gradual cooling with the\\xa0showery pattern initiated Wednesday night\\xa0and light to moderate SW winds.\\xa0\\nNote that a\\xa0refreezing 1/17 rain crust will form Wednesday night and provide a bed surface for wind and storm slab avalanches on Thursday.\\nCascade West-North above treeline terrain will have dangerous wind slab and storm slab on Thursday. The upper elevations of the above treeline terrain in this zone will not see all snow with the Wednesday night storm system, adding far more new snow relative other locations during the peak intensity of the storm. During the period of strong southerly winds snow will be available for transport, creating dangerous and touchy wind slabs. Storm slabs will be touchy and deep on Thursday\\xa0due to the high precipitation rates Wednesday evening with additional loading on Thursday.\\xa0Travel in above treeline terrain is not recommended in this zone and larger paths on higher North Cascade peaks\\xa0may produce very large natural avalanches so avoid large slide paths at lower elevations on Thursday.\\nIn all other zones and at lower elevations rain provides a delay in the development of\\xa0storm and wind slab problems. These areas are described below.\\nWind slab is the most significant avalanche problem on Thursday. In the early morning hours the snow line lowers and winds will be\\xa0moderate and\\xa0shifting to the SW, transporting storm snow as it falls. Wind slabs will continue to load during the day Thursday as lower density snow will be easier for\\xa0light to moderate winds to move. Wind slabs are most likely\\xa0on NW-N-NE-E-SE aspects, but remember that complex terrain can move snow onto aspects you don't always anticipate. Wind slabs will be sensitive to human trigger and increasingly large at higher elevations on Thursday. Avoid wind-loaded slopes, particularly near and above treeline.\\nStorm slab will form in all elevation bands as the snow line lowers, but is most likely to form and become reactive in locations receiving higher snowfall rates that are favored in SW flow, such as Mt. Baker and to a lesser extent Mt. Rainier.\\xa0Adjust your terrain selection in accordance with the new snow accumulation, becoming more conservative where 8 or more inches of fresh snow has fallen.\\nLower snowfall amounts anticipated in the Cascade Passes will\\xa0make\\xa0storm slab less massive/reactive and\\xa0wind slabs generally smaller,\\xa0reducing danger relative to other areas.\\nEven a small small avalanche can have significant consequences in a bad location such as\\xa0avalanche terrain exposed terrain traps or rock/tree hazards.\\nRemember that new snow will falling on a snowpack that has yet to gain full winter coverage, particularly at lower elevations. Terrain travel and access will still be a challenge in many some areas on Thursday and submerged obstacles will exist.\""
      ]
     },
     "execution_count": 63,
     "metadata": {},
     "output_type": "execute_result"
    }
   ],
   "source": [
    "tn = soup.find(class_='forecast-detailed')\n",
    "\"\\n\".join(map(lambda x: x.text, tn.find_all('p')))"
   ]
  },
  {
   "cell_type": "code",
   "execution_count": 41,
   "metadata": {},
   "outputs": [
    {
     "ename": "IndexError",
     "evalue": "list index out of range",
     "output_type": "error",
     "traceback": [
      "\u001b[0;31m---------------------------------------------------------------------------\u001b[0m",
      "\u001b[0;31mIndexError\u001b[0m                                Traceback (most recent call last)",
      "\u001b[0;32m<ipython-input-41-a10e314c919a>\u001b[0m in \u001b[0;36m<module>\u001b[0;34m()\u001b[0m\n\u001b[0;32m----> 1\u001b[0;31m \u001b[0mta\u001b[0m\u001b[0;34m.\u001b[0m\u001b[0mselect\u001b[0m\u001b[0;34m(\u001b[0m\u001b[0;34m\"div.span4\"\u001b[0m\u001b[0;34m)\u001b[0m\u001b[0;34m[\u001b[0m\u001b[0;36m1\u001b[0m\u001b[0;34m]\u001b[0m\u001b[0;34m.\u001b[0m\u001b[0mselect\u001b[0m\u001b[0;34m(\u001b[0m\u001b[0;34m'h4.mobile'\u001b[0m\u001b[0;34m)\u001b[0m\u001b[0;34m[\u001b[0m\u001b[0;36m0\u001b[0m\u001b[0;34m]\u001b[0m\u001b[0;34m.\u001b[0m\u001b[0mtext\u001b[0m\u001b[0;34m\u001b[0m\u001b[0m\n\u001b[0m\u001b[1;32m      2\u001b[0m \u001b[0mta\u001b[0m\u001b[0;34m.\u001b[0m\u001b[0mselect\u001b[0m\u001b[0;34m(\u001b[0m\u001b[0;34m\"div.span3\"\u001b[0m\u001b[0;34m)\u001b[0m\u001b[0;34m[\u001b[0m\u001b[0;36m0\u001b[0m\u001b[0;34m]\u001b[0m\u001b[0;34m.\u001b[0m\u001b[0mselect\u001b[0m\u001b[0;34m(\u001b[0m\u001b[0;34m'h4.mobile'\u001b[0m\u001b[0;34m)\u001b[0m\u001b[0;34m[\u001b[0m\u001b[0;36m0\u001b[0m\u001b[0;34m]\u001b[0m\u001b[0;34m.\u001b[0m\u001b[0mtext\u001b[0m\u001b[0;34m\u001b[0m\u001b[0m\n",
      "\u001b[0;31mIndexError\u001b[0m: list index out of range"
     ]
    }
   ],
   "source": [
    "ta.select(\"div.span4\")[1].select('h4.mobile')[0].text\n",
    "ta.select(\"div.span3\")[0].select('h4.mobile')[0].text"
   ]
  },
  {
   "cell_type": "code",
   "execution_count": 42,
   "metadata": {
    "collapsed": true
   },
   "outputs": [],
   "source": [
    "def elevBandForecast(fcst, band):\n",
    "    result = {}\n",
    "    fcst = fcst.find(id=band)\n",
    "    now_day = fcst.select(\"div.span4\")[1].select('h4.mobile')[0].text\n",
    "    now_fcst = fcst.select(\"div.span4\")[1].select('div.danger-description h4')[0].text\n",
    "    fut_day = fcst.select(\"div.span3\")[0].select('h4.mobile')[0].text\n",
    "    fut_fcst = fcst.select(\"div.span3\")[0].select('div.danger-description h4')[0].text\n",
    "    result['now']  = {\n",
    "        'day': now_day,\n",
    "        'danger' : now_fcst\n",
    "    }\n",
    "    result['tomorrow'] = {\n",
    "        'day' : fut_day,\n",
    "        'danger' : fut_fcst\n",
    "    }\n",
    "    return(result)"
   ]
  },
  {
   "cell_type": "code",
   "execution_count": 43,
   "metadata": {},
   "outputs": [
    {
     "data": {
      "text/plain": [
       "{'now': {'danger': 'Considerable', 'day': 'Thursday'},\n",
       " 'tomorrow': {'danger': 'Considerable', 'day': 'Outlook for Fridayi'}}"
      ]
     },
     "execution_count": 43,
     "metadata": {},
     "output_type": "execute_result"
    }
   ],
   "source": [
    "elevBandForecast(soup, 'treeline-above')"
   ]
  },
  {
   "cell_type": "code",
   "execution_count": 44,
   "metadata": {
    "collapsed": true
   },
   "outputs": [],
   "source": [
    "def updatedTime(fcst):\n",
    "    return(fcst.find('div', 'forecast-date').text.strip())"
   ]
  },
  {
   "cell_type": "code",
   "execution_count": 45,
   "metadata": {},
   "outputs": [
    {
     "data": {
      "text/plain": [
       "'Issued: 6:58 PM PST Wednesday, January 17, 2018'"
      ]
     },
     "execution_count": 45,
     "metadata": {},
     "output_type": "execute_result"
    }
   ],
   "source": [
    "updatedTime(soup)"
   ]
  },
  {
   "cell_type": "code",
   "execution_count": 46,
   "metadata": {
    "collapsed": true
   },
   "outputs": [],
   "source": [
    "def problems(fcst):\n",
    "    result = []\n",
    "    problems = fcst.find_all(class_=\"problem\")\n",
    "    for problem in problems:\n",
    "        this = {}\n",
    "        this['name'] = problem.select(\"div.problem-description h3\")[0].text.strip()[:-1]\n",
    "        this['rose_img_url'] = \"https://www.nwac.us\"+ problems[0].select('img.problem-octagon')[0].attrs['src']\n",
    "        this['likelihood_img_url'] = problem.select('img.problem-likelihood')[0].attrs['src']\n",
    "        this['size_img_url'] =  problem.select('img.problem-sizes')[0].attrs['src']\n",
    "        result.append(this)\n",
    "    return(result)\n",
    "    "
   ]
  },
  {
   "cell_type": "code",
   "execution_count": 47,
   "metadata": {},
   "outputs": [
    {
     "data": {
      "text/plain": [
       "[{'likelihood_img_url': 'https://d22fgw9k2fjwhz.cloudfront.net/media/images/likelihood_images/likelihood-33.png',\n",
       "  'name': 'Wind Slab',\n",
       "  'rose_img_url': 'https://www.nwac.us/avalanche-forecast/octagon/problem/8837.png',\n",
       "  'size_img_url': 'https://d22fgw9k2fjwhz.cloudfront.net/media/images/size_images/size-12.png'},\n",
       " {'likelihood_img_url': 'https://d22fgw9k2fjwhz.cloudfront.net/media/images/likelihood_images/likelihood-22.png',\n",
       "  'name': 'Storm Slabs',\n",
       "  'rose_img_url': 'https://www.nwac.us/avalanche-forecast/octagon/problem/8837.png',\n",
       "  'size_img_url': 'https://d22fgw9k2fjwhz.cloudfront.net/media/images/size_images/size-12.png'}]"
      ]
     },
     "execution_count": 47,
     "metadata": {},
     "output_type": "execute_result"
    }
   ],
   "source": [
    "problems(soup)"
   ]
  },
  {
   "cell_type": "code",
   "execution_count": 72,
   "metadata": {
    "collapsed": true
   },
   "outputs": [],
   "source": [
    "def detailed_forecast(fcst):\n",
    "    fd = fcst.find(class_='forecast-detailed')\n",
    "    title = fd.find('h2').text[0:-1]\n",
    "    return({\n",
    "        'forecast_title' : title,\n",
    "        'forecast' : \"\\n\".join(map(lambda x: x.text, fd.find_all('p')))\n",
    "    })\n"
   ]
  },
  {
   "cell_type": "code",
   "execution_count": 73,
   "metadata": {},
   "outputs": [
    {
     "data": {
      "text/plain": [
       "{'forecast': \"A frontal band of rain\\xa0will progress across the Cascade West slopes on Wednesday night,\\xa0with moderate to occasionally strong southerly winds during the evening hours. Precipitation has started as rain in most of our forecasting terrain. Light to moderate rain and snow showers on a moderate SW flow and\\xa0a significant cooling trend follow the frontal passage during the late evening hours. Thursday will feature continued gradual cooling with the\\xa0showery pattern initiated Wednesday night\\xa0and light to moderate SW winds.\\xa0\\nNote that a\\xa0refreezing 1/17 rain crust will form Wednesday night and provide a bed surface for wind and storm slab avalanches on Thursday.\\nCascade West-North above treeline terrain will have dangerous wind slab and storm slab on Thursday. The upper elevations of the above treeline terrain in this zone will not see all snow with the Wednesday night storm system, adding far more new snow relative other locations during the peak intensity of the storm. During the period of strong southerly winds snow will be available for transport, creating dangerous and touchy wind slabs. Storm slabs will be touchy and deep on Thursday\\xa0due to the high precipitation rates Wednesday evening with additional loading on Thursday.\\xa0Travel in above treeline terrain is not recommended in this zone and larger paths on higher North Cascade peaks\\xa0may produce very large natural avalanches so avoid large slide paths at lower elevations on Thursday.\\nIn all other zones and at lower elevations rain provides a delay in the development of\\xa0storm and wind slab problems. These areas are described below.\\nWind slab is the most significant avalanche problem on Thursday. In the early morning hours the snow line lowers and winds will be\\xa0moderate and\\xa0shifting to the SW, transporting storm snow as it falls. Wind slabs will continue to load during the day Thursday as lower density snow will be easier for\\xa0light to moderate winds to move. Wind slabs are most likely\\xa0on NW-N-NE-E-SE aspects, but remember that complex terrain can move snow onto aspects you don't always anticipate. Wind slabs will be sensitive to human trigger and increasingly large at higher elevations on Thursday. Avoid wind-loaded slopes, particularly near and above treeline.\\nStorm slab will form in all elevation bands as the snow line lowers, but is most likely to form and become reactive in locations receiving higher snowfall rates that are favored in SW flow, such as Mt. Baker and to a lesser extent Mt. Rainier.\\xa0Adjust your terrain selection in accordance with the new snow accumulation, becoming more conservative where 8 or more inches of fresh snow has fallen.\\nLower snowfall amounts anticipated in the Cascade Passes will\\xa0make\\xa0storm slab less massive/reactive and\\xa0wind slabs generally smaller,\\xa0reducing danger relative to other areas.\\nEven a small small avalanche can have significant consequences in a bad location such as\\xa0avalanche terrain exposed terrain traps or rock/tree hazards.\\nRemember that new snow will falling on a snowpack that has yet to gain full winter coverage, particularly at lower elevations. Terrain travel and access will still be a challenge in many some areas on Thursday and submerged obstacles will exist.\",\n",
       " 'forecast_title': 'Forecast for Thursday'}"
      ]
     },
     "execution_count": 73,
     "metadata": {},
     "output_type": "execute_result"
    }
   ],
   "source": [
    "detailed_forecast(soup)"
   ]
  },
  {
   "cell_type": "code",
   "execution_count": 74,
   "metadata": {
    "collapsed": true
   },
   "outputs": [],
   "source": [
    "def detailed_summary(fcst):\n",
    "    ta = fcst.find(id='discussion')\n",
    "    allp = ta.find_all('p')\n",
    "    summary = \"\"\n",
    "    it = 0\n",
    "    text = \"\"\n",
    "    while text != \"Observations\":\n",
    "        summary += text + '\\n'\n",
    "        text = allp[it].text\n",
    "        it += 1\n",
    "    return summary.strip()"
   ]
  },
  {
   "cell_type": "code",
   "execution_count": 49,
   "metadata": {},
   "outputs": [
    {
     "data": {
      "text/plain": [
       "'A trace to 2\" of high density snow fell Wednesday morning on a warming trend as warm front lifted across the Cascades and should be well bonded to 2-4\" of higher elevation snow that fell on Tuesday. These small amounts of recent snow should be melting and rounding from rainfall currently saturating the snowpack will into the above treeline terrain on Wednesday afternoon.\\nRecent snowfall sits on well-drained, generally saturated snowpack with less saturation in the above treeline terrain, but multiple crusts extending into this terrain. There\\xa0are no notable layers of concern at this time. Thus, focus your attention on new storm instabilities in these zones moving forward.'"
      ]
     },
     "execution_count": 49,
     "metadata": {},
     "output_type": "execute_result"
    }
   ],
   "source": [
    "detailed_summary(soup)"
   ]
  },
  {
   "cell_type": "code",
   "execution_count": 50,
   "metadata": {
    "collapsed": true
   },
   "outputs": [],
   "source": [
    "import json"
   ]
  },
  {
   "cell_type": "code",
   "execution_count": 75,
   "metadata": {
    "collapsed": true
   },
   "outputs": [],
   "source": [
    "def getRegionalForecast(region):\n",
    "    forecast = {}\n",
    "    url = url_template.format(region=region)\n",
    "    tree = BeautifulSoup(requests.get(url).text, 'html5lib')\n",
    "    # Forecast Time\n",
    "    forecast[\"updateTime\"] = updatedTime(tree)\n",
    "    # Elevation Band Danger Levels\n",
    "    danger = []\n",
    "    for elev_band in [\"treeline-above\", 'treeline-near', 'treeline-below']:\n",
    "        danger.append({elev_band : elevBandForecast(tree, elev_band)})\n",
    "    forecast['danger'] = danger\n",
    "    # Problems\n",
    "    forecast['problems'] = problems(tree)\n",
    "    forecast['detailed_summary'] = detailed_summary(tree)\n",
    "    forecast['detailed_forecast'] = detailed_forecast(tree)\n",
    "    return(forecast)\n",
    "    \n",
    "    \n",
    "        "
   ]
  },
  {
   "cell_type": "code",
   "execution_count": 76,
   "metadata": {},
   "outputs": [
    {
     "data": {
      "text/plain": [
       "{'danger': [{'treeline-above': {'now': {'danger': 'High', 'day': 'Thursday'},\n",
       "    'tomorrow': {'danger': 'Considerable', 'day': 'Outlook for Fridayi'}}},\n",
       "  {'treeline-near': {'now': {'danger': 'Considerable', 'day': 'Thursday'},\n",
       "    'tomorrow': {'danger': 'Considerable', 'day': 'Outlook for Fridayi'}}},\n",
       "  {'treeline-below': {'now': {'danger': 'Considerable', 'day': 'Thursday'},\n",
       "    'tomorrow': {'danger': 'Considerable', 'day': 'Outlook for Fridayi'}}}],\n",
       " 'detailed_forecast': {'forecast': \"A frontal band of rain\\xa0will progress across the Cascade West slopes on Wednesday night,\\xa0with moderate to occasionally strong southerly winds during the evening hours. Precipitation has started as rain in most of our forecasting terrain. Light to moderate rain and snow showers on a moderate SW flow and\\xa0a significant cooling trend follow the frontal passage during the late evening hours. Thursday will feature continued gradual cooling with the\\xa0showery pattern initiated Wednesday night\\xa0and light to moderate SW winds.\\xa0\\nNote that a\\xa0refreezing 1/17 rain crust will form Wednesday night and provide a bed surface for wind and storm slab avalanches on Thursday.\\nCascade West-North above treeline terrain will have dangerous wind slab and storm slab on Thursday. The upper elevations of the above treeline terrain in this zone will not see all snow with the Wednesday night storm system, adding far more new snow relative other locations during the peak intensity of the storm. During the period of strong southerly winds snow will be available for transport, creating dangerous and touchy wind slabs. Storm slabs will be touchy and deep on Thursday\\xa0due to the high precipitation rates Wednesday evening with additional loading on Thursday.\\xa0Travel in above treeline terrain is not recommended in this zone and larger paths on higher North Cascade peaks\\xa0may produce very large natural avalanches so avoid large slide paths at lower elevations on Thursday.\\nIn all other zones and at lower elevations rain provides a delay in the development of\\xa0storm and wind slab problems. These areas are described below.\\nWind slab is the most significant avalanche problem on Thursday. In the early morning hours the snow line lowers and winds will be\\xa0moderate and\\xa0shifting to the SW, transporting storm snow as it falls. Wind slabs will continue to load during the day Thursday as lower density snow will be easier for\\xa0light to moderate winds to move. Wind slabs are most likely\\xa0on NW-N-NE-E-SE aspects, but remember that complex terrain can move snow onto aspects you don't always anticipate. Wind slabs will be sensitive to human trigger and increasingly large at higher elevations on Thursday. Avoid wind-loaded slopes, particularly near and above treeline.\\nStorm slab will form in all elevation bands as the snow line lowers, but is most likely to form and become reactive in locations receiving higher snowfall rates that are favored in SW flow, such as Mt. Baker and to a lesser extent Mt. Rainier.\\xa0Adjust your terrain selection in accordance with the new snow accumulation, becoming more conservative where 8 or more inches of fresh snow has fallen.\\nLower snowfall amounts anticipated in the Cascade Passes will\\xa0make\\xa0storm slab less massive/reactive and\\xa0wind slabs generally smaller,\\xa0reducing danger relative to other areas.\\nEven a small small avalanche can have significant consequences in a bad location such as\\xa0avalanche terrain exposed terrain traps or rock/tree hazards.\\nRemember that new snow will falling on a snowpack that has yet to gain full winter coverage, particularly at lower elevations. Terrain travel and access will still be a challenge in many some areas on Thursday and submerged obstacles will exist.\",\n",
       "  'forecast_title': 'Forecast for Thursday'},\n",
       " 'detailed_summary': 'A trace to 2\" of high density snow fell Wednesday morning on a warming trend as warm front lifted across the Cascades and should be well bonded to 2-4\" of higher elevation snow that fell on Tuesday. These small amounts of recent snow should be melting and rounding from rainfall currently saturating the snowpack will into the above treeline terrain on Wednesday afternoon.\\nRecent snowfall sits on well-drained, generally saturated snowpack with less saturation in the above treeline terrain, but multiple crusts extending into this terrain. There\\xa0are no notable layers of concern at this time. Thus, focus your attention on new storm instabilities in these zones moving forward.',\n",
       " 'problems': [{'likelihood_img_url': 'https://d22fgw9k2fjwhz.cloudfront.net/media/images/likelihood_images/likelihood-33.png',\n",
       "   'name': 'Wind Slab',\n",
       "   'rose_img_url': 'https://www.nwac.us/avalanche-forecast/octagon/problem/8846.png',\n",
       "   'size_img_url': 'https://d22fgw9k2fjwhz.cloudfront.net/media/images/size_images/size-12.png'},\n",
       "  {'likelihood_img_url': 'https://d22fgw9k2fjwhz.cloudfront.net/media/images/likelihood_images/likelihood-33.png',\n",
       "   'name': 'Storm Slabs',\n",
       "   'rose_img_url': 'https://www.nwac.us/avalanche-forecast/octagon/problem/8846.png',\n",
       "   'size_img_url': 'https://d22fgw9k2fjwhz.cloudfront.net/media/images/size_images/size-12.png'}],\n",
       " 'updateTime': 'Issued: 6:58 PM PST Wednesday, January 17, 2018'}"
      ]
     },
     "execution_count": 76,
     "metadata": {},
     "output_type": "execute_result"
    }
   ],
   "source": [
    "getRegionalForecast('cascade-west-north-baker')"
   ]
  },
  {
   "cell_type": "code",
   "execution_count": null,
   "metadata": {},
   "outputs": [],
   "source": [
    "from Flask import jsonify"
   ]
  },
  {
   "cell_type": "code",
   "execution_count": null,
   "metadata": {
    "collapsed": true
   },
   "outputs": [],
   "source": []
  }
 ],
 "metadata": {
  "kernelspec": {
   "display_name": "Python [default]",
   "language": "python",
   "name": "python3"
  },
  "language_info": {
   "codemirror_mode": {
    "name": "ipython",
    "version": 3
   },
   "file_extension": ".py",
   "mimetype": "text/x-python",
   "name": "python",
   "nbconvert_exporter": "python",
   "pygments_lexer": "ipython3",
   "version": "3.5.4"
  },
  "toc": {
   "colors": {
    "hover_highlight": "#DAA520",
    "navigate_num": "#000000",
    "navigate_text": "#333333",
    "running_highlight": "#FF0000",
    "selected_highlight": "#FFD700",
    "sidebar_border": "#EEEEEE",
    "wrapper_background": "#FFFFFF"
   },
   "moveMenuLeft": true,
   "nav_menu": {
    "height": "12px",
    "width": "252px"
   },
   "navigate_menu": true,
   "number_sections": true,
   "sideBar": true,
   "threshold": 4,
   "toc_cell": false,
   "toc_section_display": "block",
   "toc_window_display": false,
   "widenNotebook": false
  }
 },
 "nbformat": 4,
 "nbformat_minor": 2
}
